{
 "cells": [
  {
   "cell_type": "markdown",
   "metadata": {},
   "source": [
    "The Iris flower data set or Fisher’s Iris data set is a multivariate data set introduced by the British statistician and biologist Ronald Fisher. The Iris data set consists of 150 samples in total, or 50 samples from each of three species of Iris flowers (Iris setosa, Iris virginica and Iris versicolor). Four features were measured from each sample: the length and the width of the sepals and petals, in centimeters. The data set is also included in the “dataset” package of scikit-learn."
   ]
  },
  {
   "cell_type": "code",
   "execution_count": 1,
   "metadata": {},
   "outputs": [
    {
     "name": "stdout",
     "output_type": "stream",
     "text": [
      "The accuracy of the Gaussian Naive Bayes on Iris data is: 0.960\n",
      "The accuracy of the Bernoulli Naive Bayes on Iris data is: 0.293\n",
      "The accuracy of the Multinomial Naive Bayes on Iris data is: 0.693\n"
     ]
    }
   ],
   "source": [
    "# Import Iris data set\n",
    "from sklearn.datasets import load_iris\n",
    "# Import required packages and functions\n",
    "from sklearn.model_selection import train_test_split\n",
    "from sklearn.metrics import accuracy_score\n",
    "# Import Gaussian Naive Bayes \n",
    "from sklearn.naive_bayes import GaussianNB\n",
    "# Import Bernoulli Naive Bayes\n",
    "from sklearn.naive_bayes import BernoulliNB\n",
    "# Import Multinomial Naive Bayes\n",
    "from sklearn.naive_bayes import MultinomialNB\n",
    "\n",
    "# Load data and split it to train and test sets\n",
    "X, y = load_iris(return_X_y=True)\n",
    "X_train, X_test, y_train, y_test = train_test_split(X, y, test_size=0.5, random_state=9)\n",
    "# Creat Gaussian Naive Bayes object\n",
    "gnb = GaussianNB()\n",
    "# fit the model and predict test set\n",
    "y_pred = gnb.fit(X_train, y_train).predict(X_test)\n",
    "# Print accuracy\n",
    "print(\"The accuracy of the Gaussian Naive Bayes on Iris data is: %.3f\" % (accuracy_score(y_test,y_pred)))\n",
    "# Create Bernoulli Naive Bayes object\n",
    "bnb = BernoulliNB()\n",
    "# fit the model and predict test set\n",
    "y_pred = bnb.fit(X_train, y_train).predict(X_test)\n",
    "# print accuracy\n",
    "print(\"The accuracy of the Bernoulli Naive Bayes on Iris data is: %.3f\" % (accuracy_score(y_test,y_pred)))\n",
    "# Creat Multinomial Naive Bayes object\n",
    "mnb = MultinomialNB()\n",
    "# fit the model and predict test set\n",
    "y_pred = mnb.fit(X_train, y_train).predict(X_test)\n",
    "# print accuracy\n",
    "print(\"The accuracy of the Multinomial Naive Bayes on Iris data is: %.3f\" % (accuracy_score(y_test,y_pred)))"
   ]
  },
  {
   "cell_type": "markdown",
   "metadata": {},
   "source": [
    "As we can see from the results, we have a higher accuracy in Gaussian version of the algorithm. This is as expected, since the features are continuous variables."
   ]
  },
  {
   "cell_type": "markdown",
   "metadata": {},
   "source": [
    "The digits data set, similar to MNIST data set, is a copy of the test set of the UCI ML hand-written digits data sets. There are 10 classes with 180 samples for each class and the images are stored in 8 × 8 pictures. For more information about the data, please visit sklearn.datasets."
   ]
  },
  {
   "cell_type": "code",
   "execution_count": 3,
   "metadata": {},
   "outputs": [
    {
     "name": "stdout",
     "output_type": "stream",
     "text": [
      "The accuracy of the Gaussian Naive Bayes on digits data is: 0.857\n",
      "The accuracy of the Bernoulli Naive Bayes on digits data is: 0.838\n",
      "The accuracy of the Multinomial Naive Bayes on digits data is: 0.882\n"
     ]
    }
   ],
   "source": [
    "# Import digits data set\n",
    "from sklearn.datasets import load_digits\n",
    "# Import required packages and functions\n",
    "from sklearn.model_selection import train_test_split\n",
    "from sklearn.metrics import accuracy_score\n",
    "# Import Gaussian Naive Bayes \n",
    "from sklearn.naive_bayes import GaussianNB\n",
    "# Import Bernoulli Naive Bayes\n",
    "from sklearn.naive_bayes import BernoulliNB\n",
    "# Import Multinomial Naive Bayes\n",
    "from sklearn.naive_bayes import MultinomialNB\n",
    "\n",
    "# Load data and split it to train and test sets\n",
    "X, y = load_digits(return_X_y=True)\n",
    "X_train, X_test, y_train, y_test = train_test_split(X, y, test_size=0.5, random_state=9)\n",
    "# Creat Gaussian Naive Bayes object\n",
    "gnb = GaussianNB()\n",
    "# fit the model and predict test set\n",
    "y_pred = gnb.fit(X_train, y_train).predict(X_test)\n",
    "# Print accuracy\n",
    "print(\"The accuracy of the Gaussian Naive Bayes on digits data is: %.3f\" % (accuracy_score(y_test,y_pred)))\n",
    "# Create Bernoulli Naive Bayes object\n",
    "bnb = BernoulliNB()\n",
    "# fit the model and predict test set\n",
    "y_pred = bnb.fit(X_train, y_train).predict(X_test)\n",
    "# print accuracy\n",
    "print(\"The accuracy of the Bernoulli Naive Bayes on digits data is: %.3f\" % (accuracy_score(y_test,y_pred)))\n",
    "# Creat Multinomial Naive Bayes object\n",
    "mnb = MultinomialNB()\n",
    "# fit the model and predict test set\n",
    "y_pred = mnb.fit(X_train, y_train).predict(X_test)\n",
    "# print accuracy\n",
    "print(\"The accuracy of the Multinomial Naive Bayes on digits data is: %.3f\" % (accuracy_score(y_test,y_pred)))"
   ]
  },
  {
   "cell_type": "markdown",
   "metadata": {},
   "source": [
    "Multinomial Naïve Bayes algorithm beats the other two versions in the digits data set. Since the features in the digits data sets are binary, we were expecting Multinomial version to give a better result."
   ]
  }
 ],
 "metadata": {
  "kernelspec": {
   "display_name": "venv640",
   "language": "python",
   "name": "python3"
  },
  "language_info": {
   "codemirror_mode": {
    "name": "ipython",
    "version": 3
   },
   "file_extension": ".py",
   "mimetype": "text/x-python",
   "name": "python",
   "nbconvert_exporter": "python",
   "pygments_lexer": "ipython3",
   "version": "3.11.10"
  }
 },
 "nbformat": 4,
 "nbformat_minor": 2
}
